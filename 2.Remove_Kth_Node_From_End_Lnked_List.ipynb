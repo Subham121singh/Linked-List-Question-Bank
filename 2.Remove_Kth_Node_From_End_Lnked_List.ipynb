{
 "cells": [
  {
   "cell_type": "markdown",
   "metadata": {},
   "source": [
    "### Remove Kth Node From End Of Linked mList"
   ]
  },
  {
   "cell_type": "code",
   "execution_count": 1,
   "metadata": {},
   "outputs": [],
   "source": [
    "# Class for Creating Node\n",
    "class Node:\n",
    "    def __init__(self,data):\n",
    "        self.data = data\n",
    "        self.next = None\n",
    "# Class for all other required methods\n",
    "class LinkedList:\n",
    "    def __init__(self):\n",
    "        self.head = None\n",
    "        self.tail = None\n",
    "        \n",
    "    def insertNode(self,data):\n",
    "        if self.head is None:\n",
    "            self.head = Node(data)\n",
    "            self.tail  = self.head\n",
    "            return\n",
    "        self.tail.next = Node(data)\n",
    "        self.tail = self.tail.next\n",
    "    \n",
    "    def Remove_Kth_FromEnd(self,k): # Function for removing Kth Node\n",
    "        fast = self.head            # Fast pointer \n",
    "        while k>0:\n",
    "            fast = fast.next\n",
    "            k -= 1 \n",
    "        slow = Node(-1)             # Slow Pointer for Desired change\n",
    "        slow.next = self.head\n",
    "        while fast:\n",
    "            slow = slow.next\n",
    "            fast = fast.next\n",
    "        if slow.next is self.head:   # This case is for handling when Node to remove is first Node\n",
    "            self.head = self.head.next\n",
    "            return\n",
    "        slow.next = slow.next.next   # Slow pointer using here to remove Kth Node\n",
    "    \n",
    "    def Display(self):     # Function for printing Node values.\n",
    "        temp = self.head\n",
    "        while temp:\n",
    "            print(temp.data,end = ' ')\n",
    "            temp = temp.next\n",
    "        print()\n",
    "            "
   ]
  },
  {
   "cell_type": "code",
   "execution_count": 2,
   "metadata": {},
   "outputs": [
    {
     "name": "stdout",
     "output_type": "stream",
     "text": [
      "1 2 3 4 5 6 \n",
      "2 3 4 5 6 \n"
     ]
    }
   ],
   "source": [
    "Ll = LinkedList()\n",
    "for i in [1,2,3,4,5,6]:\n",
    "    Ll.insertNode(i)\n",
    "Ll.Display()\n",
    "Ll.Remove_Kth_FromEnd(6)\n",
    "Ll.Display()"
   ]
  },
  {
   "cell_type": "code",
   "execution_count": 3,
   "metadata": {},
   "outputs": [
    {
     "name": "stdout",
     "output_type": "stream",
     "text": [
      "2\n",
      "2 3 4 5 6 \n"
     ]
    }
   ],
   "source": [
    "print(Ll.head.data)\n",
    "Ll.Display()"
   ]
  },
  {
   "cell_type": "code",
   "execution_count": 4,
   "metadata": {},
   "outputs": [
    {
     "name": "stdout",
     "output_type": "stream",
     "text": [
      "2 3 4 5 \n"
     ]
    }
   ],
   "source": [
    "Ll.Remove_Kth_FromEnd(1)\n",
    "Ll.Display()"
   ]
  }
 ],
 "metadata": {
  "kernelspec": {
   "display_name": "Python 3",
   "language": "python",
   "name": "python3"
  },
  "language_info": {
   "codemirror_mode": {
    "name": "ipython",
    "version": 3
   },
   "file_extension": ".py",
   "mimetype": "text/x-python",
   "name": "python",
   "nbconvert_exporter": "python",
   "pygments_lexer": "ipython3",
   "version": "3.7.3"
  }
 },
 "nbformat": 4,
 "nbformat_minor": 2
}
