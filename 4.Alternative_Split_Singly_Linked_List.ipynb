{
 "cells": [
  {
   "cell_type": "markdown",
   "metadata": {},
   "source": [
    "### AlterNative Split of Singly Linkedlist"
   ]
  },
  {
   "cell_type": "code",
   "execution_count": 39,
   "metadata": {},
   "outputs": [],
   "source": [
    "class Node:\n",
    "    def __init__(self,data):\n",
    "        self.data = data\n",
    "        self.next = None\n",
    "\n",
    "\n",
    "class LinkedList:\n",
    "    def __init__(self):\n",
    "        self.head = None\n",
    "        self.tail = None\n",
    "    def addNode(self,data):\n",
    "        if self.head is None:\n",
    "            self.head = Node(data)\n",
    "            self.tail = self.head\n",
    "        else:\n",
    "            self.tail.next = Node(data)\n",
    "            self.tail = self.tail.next\n",
    "    def Display(self):\n",
    "        temp = self.head\n",
    "        while temp:\n",
    "            print(temp.data, end=' ')\n",
    "            temp = temp.next\n",
    "    def AlterNativeSplit(self):\n",
    "        L1 = None\n",
    "        L2 = None\n",
    "        curr = self.head\n",
    "        while curr is not None:\n",
    "            new_node = curr\n",
    "            curr = curr.next\n",
    "            new_node.next = L1\n",
    "            L1 = new_node\n",
    "            if curr is not None:\n",
    "                new_node = curr\n",
    "                curr = curr.next\n",
    "                new_node.next = L2\n",
    "                L2 = new_node\n",
    "        return L1 , L2"
   ]
  },
  {
   "cell_type": "code",
   "execution_count": 40,
   "metadata": {},
   "outputs": [
    {
     "name": "stdout",
     "output_type": "stream",
     "text": [
      "1\n",
      "2\n",
      "3\n",
      "4\n",
      "5\n",
      "6\n",
      "7\n",
      "8\n",
      "9\n",
      "10\n",
      "1 2 3 4 5 6 7 8 9 10 \n",
      " First List\n",
      "9 7 5 3 1 \n",
      " Second List\n",
      "10 8 6 4 2 "
     ]
    }
   ],
   "source": [
    "L1 = LinkedList()\n",
    "\n",
    "for i in range(10):\n",
    "    L1.addNode(int(input()))\n",
    "print(\"Linked List\")\n",
    "L1.Display()\n",
    "La, Lb =L1.AlterNativeSplit()\n",
    "print('\\n First List')\n",
    "while La:\n",
    "    print(La.data, end = ' ')\n",
    "    La = La.next\n",
    "print('\\n Second List')\n",
    "while Lb:\n",
    "    print(Lb.data, end = ' ')\n",
    "    Lb = Lb.next"
   ]
  }
 ],
 "metadata": {
  "kernelspec": {
   "display_name": "Python 3",
   "language": "python",
   "name": "python3"
  },
  "language_info": {
   "codemirror_mode": {
    "name": "ipython",
    "version": 3
   },
   "file_extension": ".py",
   "mimetype": "text/x-python",
   "name": "python",
   "nbconvert_exporter": "python",
   "pygments_lexer": "ipython3",
   "version": "3.7.3"
  }
 },
 "nbformat": 4,
 "nbformat_minor": 2
}
