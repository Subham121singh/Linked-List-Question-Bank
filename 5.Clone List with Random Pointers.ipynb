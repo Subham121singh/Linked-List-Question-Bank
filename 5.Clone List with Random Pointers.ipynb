{
 "cells": [
  {
   "cell_type": "markdown",
   "metadata": {},
   "source": [
    "<h3><font color = 'blue'>Clone List with Random Pointers"
   ]
  },
  {
   "cell_type": "code",
   "execution_count": 31,
   "metadata": {},
   "outputs": [],
   "source": [
    "class Node:\n",
    "    def __init__(self,data):\n",
    "        self.data = data\n",
    "        self.next = None\n",
    "        self.random = None\n",
    "class LinkedList:\n",
    "    def __init__(self):\n",
    "        self.head = None\n",
    "        self.tail = None\n",
    "    def insertEnd(self,data):\n",
    "        NewNode = Node(data)\n",
    "        if self.head is None:\n",
    "            self.head = NewNode\n",
    "            self.tail = self.head\n",
    "            return\n",
    "        self.tail.next = NewNode\n",
    "        self.tail = self.tail.next\n",
    "    def Display(self):\n",
    "        temp  = self.head\n",
    "        while temp:\n",
    "            print(self.temp.data)\n",
    "            temp =temp.next\n",
    "\n",
    "def Clone(head):\n",
    "    curr = head\n",
    "    while curr:\n",
    "        new = Node(curr.data)\n",
    "        new.next = curr.next\n",
    "        curr.next = new\n",
    "        curr = curr.next.next\n",
    "    curr = head\n",
    "    while curr:\n",
    "        curr.next.random = curr.random.next\n",
    "        curr  = curr.next.next\n",
    "    curr = head\n",
    "    dup_root = head.next\n",
    "    while curr.next:\n",
    "        temp = curr.next\n",
    "        curr.next = curr.next.next\n",
    "        curr = temp\n",
    "    return dup_root\n",
    "\n",
    "def print_list(head):\n",
    "    temp=head\n",
    "    while temp!=None:\n",
    "        print('Data =', temp.data, ', Random =', temp.random.data)\n",
    "        temp=temp.next"
   ]
  },
  {
   "cell_type": "code",
   "execution_count": 32,
   "metadata": {},
   "outputs": [
    {
     "name": "stdout",
     "output_type": "stream",
     "text": [
      "1\n",
      "2\n",
      "3\n",
      "4\n",
      "5\n"
     ]
    }
   ],
   "source": [
    "Ll = LinkedList()\n",
    "for i in range(5):\n",
    "    Ll.insertEnd(int(input()))\n",
    "temp = Ll.head\n",
    "temp.random = temp.next.next\n",
    "temp.next.random = temp \n",
    "temp.next.next.random = temp.next.next.next.next\n",
    "temp.next.next.next.random = temp.next.next.next.next\n",
    "temp.next.next.next.next.random = temp.next\n"
   ]
  },
  {
   "cell_type": "code",
   "execution_count": 33,
   "metadata": {},
   "outputs": [],
   "source": [
    "L = Clone(Ll.head)\n"
   ]
  },
  {
   "cell_type": "code",
   "execution_count": 34,
   "metadata": {},
   "outputs": [
    {
     "name": "stdout",
     "output_type": "stream",
     "text": [
      "LL\n",
      "Data = 1 , Random = 3\n",
      "Data = 2 , Random = 1\n",
      "Data = 3 , Random = 5\n",
      "Data = 4 , Random = 5\n",
      "Data = 5 , Random = 2\n",
      "Cloned\n",
      "Data = 1 , Random = 3\n",
      "Data = 2 , Random = 1\n",
      "Data = 3 , Random = 5\n",
      "Data = 4 , Random = 5\n",
      "Data = 5 , Random = 2\n"
     ]
    }
   ],
   "source": [
    "print(\"LL\")\n",
    "print_list(Ll.head)\n",
    "print(\"Cloned\")\n",
    "print_list(L)"
   ]
  }
 ],
 "metadata": {
  "kernelspec": {
   "display_name": "Python 3",
   "language": "python",
   "name": "python3"
  },
  "language_info": {
   "codemirror_mode": {
    "name": "ipython",
    "version": 3
   },
   "file_extension": ".py",
   "mimetype": "text/x-python",
   "name": "python",
   "nbconvert_exporter": "python",
   "pygments_lexer": "ipython3",
   "version": "3.7.3"
  }
 },
 "nbformat": 4,
 "nbformat_minor": 2
}
