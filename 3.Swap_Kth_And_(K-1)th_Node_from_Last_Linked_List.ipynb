{
 "cells": [
  {
   "cell_type": "markdown",
   "metadata": {},
   "source": [
    "### Swap Kth and (K-1)th Node From Last In Singly Linked List"
   ]
  },
  {
   "cell_type": "code",
   "execution_count": 1,
   "metadata": {},
   "outputs": [],
   "source": [
    "# Class for creating Nodes\n",
    "class Node:\n",
    "    def __init__(self,data):\n",
    "        self.data = data\n",
    "        self.next = None\n",
    "# Class for all other required functionalities i.e., for displaying Linked List etc.        \n",
    "class LinkedList:\n",
    "    def __init__(self):\n",
    "        self.head = None\n",
    "        self.tail = None\n",
    "        \n",
    "    def insert_node(self,val): # Method for inserting node at end\n",
    "        if self.head is None:\n",
    "            self.head = Node(val)\n",
    "            self.tail = self.head\n",
    "        else:\n",
    "            self.tail.next =  Node(val)\n",
    "            self.tail = self.tail.next\n",
    "            \n",
    "    \n",
    "    def swap_kth(self,k):      # Method for Swapping Kth and (K-1)th Node from Last.\n",
    "        if self.head.next is None:  #if single node\n",
    "            return\n",
    "        fast = self.head       # Fast Pointer\n",
    "        while k>0:\n",
    "            fast=fast.next\n",
    "            k-=1\n",
    "        if fast is None:\n",
    "            temp = self.head.data\n",
    "            self.head.data = self.head.next.data\n",
    "            self.head.next.data=temp\n",
    "            return\n",
    "            \n",
    "        slow = self.head       # Slow Pointer\n",
    "        while fast is not None:\n",
    "            slow = slow.next\n",
    "            fast = fast.next\n",
    "        # slow = slow.next\n",
    "        temp = slow.data\n",
    "        slow.data = slow.next.data\n",
    "        slow.next.data =temp\n",
    "\n",
    "        \n",
    "    def Display(self):       # Pointer for displaying Linked List\n",
    "        temp = self.head\n",
    "        while temp is not None:\n",
    "            print(temp.data,end = ' ')\n",
    "            temp=temp.next\n",
    "        print()\n"
   ]
  },
  {
   "cell_type": "markdown",
   "metadata": {},
   "source": [
    "#### Below code is for user to enter Kth position and inserting nodes and swapping Kth and (K-1)th Node."
   ]
  },
  {
   "cell_type": "code",
   "execution_count": 2,
   "metadata": {},
   "outputs": [
    {
     "name": "stdout",
     "output_type": "stream",
     "text": [
      "Enter K value to Swap Kth and (K-1)th Node From Last : 3\n",
      "Enter Node values you want to insert :  1 2 3 4 5 6 7 8 9\n",
      "Your Linked List\n",
      "1 2 3 4 5 6 7 8 9 \n",
      "After Swapping\n",
      "1 2 3 4 5 6 8 7 9 \n"
     ]
    }
   ],
   "source": [
    "k = int(input(\"Enter K value to Swap Kth and (K-1)th Node From Last : \"))\n",
    "Ll = LinkedList() # Creating Object of Linked List Class.\n",
    "for i in list(map(int,(input(\"Enter Node values you want to insert : \").split()))):\n",
    "    Ll.insert_node(i)\n",
    "\n",
    "print(\"Your Linked List\")\n",
    "Ll.Display()\n",
    "Ll.swap_kth(k)\n",
    "print(\"After Swapping\")\n",
    "Ll.Display()"
   ]
  }
 ],
 "metadata": {
  "kernelspec": {
   "display_name": "Python 3",
   "language": "python",
   "name": "python3"
  },
  "language_info": {
   "codemirror_mode": {
    "name": "ipython",
    "version": 3
   },
   "file_extension": ".py",
   "mimetype": "text/x-python",
   "name": "python",
   "nbconvert_exporter": "python",
   "pygments_lexer": "ipython3",
   "version": "3.7.3"
  }
 },
 "nbformat": 4,
 "nbformat_minor": 2
}
