{
 "cells": [
  {
   "cell_type": "markdown",
   "metadata": {},
   "source": [
    "### Find Kth Node From  End of Linked List "
   ]
  },
  {
   "cell_type": "code",
   "execution_count": 1,
   "metadata": {},
   "outputs": [],
   "source": [
    "class Node:\n",
    "\n",
    "    def __init__(self,data):\n",
    "        self.data = data\n",
    "        self.next = None\n",
    "\n",
    "class LinkedList:\n",
    "    \n",
    "    def __init__(self):\n",
    "        self.head = None  # Creating Head Pointer \n",
    "        self.tail = None   # Creating Tail Pointer\n",
    "        \n",
    "    def insertNode(self,data): # Function for inserting Node\n",
    "        \n",
    "        if self.head is None:\n",
    "            self.head = Node(data)\n",
    "            self.tail  = self.head\n",
    "            return\n",
    "        self.tail.next = Node(data)\n",
    "        self.tail = self.tail.next\n",
    "    \n",
    "    def Kth_FromEnd(self,k):\n" ,
    "        \n",
    "        fast = self.head   # Fast Pointer\n",
    "        while k>0:\n",
    "            fast = fast.next\n",
    "            k -= 1 \n",
    "        slow = self.head  #Slow Pointer, It would give desired value\n",
    "        while fast:\n",
    "            slow = slow.next\n",
    "            fast = fast.next\n",
    "        print(slow.data)\n",
    "    \n",
    "    def Display(self):   # Function for printing nodes values\n",
    "        \n",
    "        temp = self.head\n",
    "        while temp:\n",
    "            print(temp.data,end = ' ')\n",
    "            temp = temp.next\n",
    "        print()\n",
    "            "
   ]
  },
  {
   "cell_type": "code",
   "execution_count": 2,
   "metadata": {},
   "outputs": [
    {
     "name": "stdout",
     "output_type": "stream",
     "text": [
      "1 2 3 4 5 6 \n",
      "1\n"
     ]
    }
   ],
   "source": [
    "Ll = LinkedList()  #Creating Linked List Object\n",
    "for i in [1,2,3,4,5,6]:\n",
    "    Ll.insertNode(i)\n",
    "Ll.Display()\n",
    "Ll.Kth_FromEnd(6)"
   ]
  }
 ],
 "metadata": {
  "kernelspec": {
   "display_name": "Python 3",
   "language": "python",
   "name": "python3"
  },
  "language_info": {
   "codemirror_mode": {
    "name": "ipython",
    "version": 3
   },
   "file_extension": ".py",
   "mimetype": "text/x-python",
   "name": "python",
   "nbconvert_exporter": "python",
   "pygments_lexer": "ipython3",
   "version": "3.7.3"
  }
 },
 "nbformat": 4,
 "nbformat_minor": 2
}
